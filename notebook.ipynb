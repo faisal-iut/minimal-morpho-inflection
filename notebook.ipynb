{
 "cells": [
  {
   "cell_type": "code",
   "execution_count": 265,
   "metadata": {},
   "outputs": [],
   "source": [
    "!python data_preprocess.py sample-data/spa spa"
   ]
  },
  {
   "cell_type": "code",
   "execution_count": 266,
   "metadata": {},
   "outputs": [],
   "source": [
    "!python data_preprocess.py sample-data/eng eng"
   ]
  },
  {
   "cell_type": "code",
   "execution_count": 267,
   "metadata": {},
   "outputs": [],
   "source": [
    "!python data_preprocess.py sample-data/ben ben"
   ]
  },
  {
   "cell_type": "code",
   "execution_count": null,
   "metadata": {},
   "outputs": [],
   "source": [
    "!python data_preprocess.py sample-data/grc grc"
   ]
  },
  {
   "cell_type": "code",
   "execution_count": null,
   "metadata": {},
   "outputs": [],
   "source": [
    "!python data_preprocess.py sample-data/ell ell"
   ]
  },
  {
   "cell_type": "code",
   "execution_count": 235,
   "metadata": {
    "scrolled": false
   },
   "outputs": [
    {
     "name": "stdout",
     "output_type": "stream",
     "text": [
      "{('τὸν ', 'ς->Ε', 'ν')}\r\n"
     ]
    }
   ],
   "source": [
    "!python utils.py sample-data/grc grc 'βοηθός:τὸν βοηθόν'"
   ]
  },
  {
   "cell_type": "code",
   "execution_count": 157,
   "metadata": {},
   "outputs": [
    {
     "data": {
      "text/plain": [
       "'aa'"
      ]
     },
     "execution_count": 157,
     "metadata": {},
     "output_type": "execute_result"
    }
   ],
   "source": [
    "ἱερόδουλος\tτοῦ ῑ̔εροδούλου\tN-GEN-SG\tΕ\tἱερόδουλος->τοῦ\tΕ\n",
    "ἱερόδουλος\tτοῦ ῑ̔εροδούλου\tN-GEN-SG\tΕ\tἱερόδουλος->το\tυ\n",
    "ἱερόδουλος\tτοῦ ῑ̔εροδούλου\tN-GEN-SG\tτοῦ\tἱερόδουλος->ῑ̔εροδούλου\tΕ"
   ]
  },
  {
   "cell_type": "code",
   "execution_count": 192,
   "metadata": {},
   "outputs": [
    {
     "data": {
      "text/plain": [
       "[['Ε', 'e->Ε', 'ed'], ['Ε', 'Ε->Ε', 'd']]"
      ]
     },
     "execution_count": 192,
     "metadata": {},
     "output_type": "execute_result"
    }
   ],
   "source": [
    "def reconstruct_inf(lemma, inf, trip):\n",
    "    eps = '\\u0395'\n",
    "    sc = trip[1].split(\"->\")\n",
    "    if sc[0]!= eps and (sc[0] != lemma[-len(sc[0]):]):\n",
    "        return 0\n",
    "    add_p = trip[0] + lemma if trip[0] != eps else lemma\n",
    "    add_sc1 = add_p[:-len(sc[0])] if sc[0] == lemma[-len(sc[0]):] else add_p\n",
    "    add_sc2 = add_sc1 + sc[1] if sc[1] != eps else add_sc1\n",
    "    add_s = add_sc2 + trip[2] if trip[2] != eps else add_sc2\n",
    "    if add_s == inf:\n",
    "        return 1\n",
    "    else:\n",
    "        return 0\n",
    "\n",
    "\n",
    "my_list =[['Ε', 've->Ε', 'd'],['Ε', 'o->Ε', 'ed'], ['Ε', 'e->Ε', 'ed'], ['Ε', 'Ε->Ε', 'd']]\n",
    "\n",
    "lemma = \"abacinate\"\n",
    "inf=\"abacinated\"\n",
    "          \n",
    "# indices = [i for i, x in enumerate(my_list) if a == \"\".join(x.split(\"->\"))]\n",
    "# list(map(lambda x: x if reconstruct_inf(lemma,inf,x) else 0, my_list))\n",
    "[x for x in my_list if reconstruct_inf(lemma,inf,x)]"
   ]
  },
  {
   "cell_type": "code",
   "execution_count": 142,
   "metadata": {},
   "outputs": [
    {
     "data": {
      "text/plain": [
       "'ab'"
      ]
     },
     "execution_count": 142,
     "metadata": {},
     "output_type": "execute_result"
    }
   ],
   "source": [
    "x=\"a->b\"\n",
    "\"\".join(x.split(\"->\"))"
   ]
  },
  {
   "cell_type": "code",
   "execution_count": 255,
   "metadata": {},
   "outputs": [],
   "source": [
    "inp = 'X'\n",
    "oup = 'ab cd ef gh'\n",
    "oups = ['ab','cd','ef','gh']"
   ]
  },
  {
   "cell_type": "code",
   "execution_count": 262,
   "metadata": {},
   "outputs": [
    {
     "name": "stdout",
     "output_type": "stream",
     "text": [
      "E | ab cd ef gh\n",
      "ab |  cd ef gh\n",
      "ab cd |  ef gh\n",
      "ab cd ef |  gh\n"
     ]
    }
   ],
   "source": [
    "for ind_o, oup_s in enumerate(oups):\n",
    "#     print(ind_o, oups[0:ind_o],oups[ind_o])\n",
    "    pref = ' '.join(oups[0:ind_o])\n",
    "    pref = \"E\" if len(pref)==0 else pref\n",
    "    oup_r = oup.replace(pref,\"\")\n",
    "    print(pref,\"|\", oup_r)"
   ]
  },
  {
   "cell_type": "code",
   "execution_count": null,
   "metadata": {},
   "outputs": [],
   "source": [
    "def alignment(inputs, outputs, poss, characters):\n",
    "\ttemp = [(''.join(inputs[i]), ''.join(outputs[i])) for i in range(len(outputs))]\n",
    "\taligned = align.Aligner(temp).alignedpairs\n",
    "\tvocab = list(characters)\n",
    "\ttry:\n",
    "\t\tvocab.remove(u\" \")\n",
    "\texcept:\n",
    "\t\tpass\n",
    "\n",
    "\ttriplets = []\n",
    "\tfor k, item in enumerate(aligned):\n",
    "\t\tinp, oup, pos = ''.join(inputs[k]), ''.join(outputs[k]), '-'.join(poss[k])\n",
    "\t\ttx_set = [inp, oup, pos]\n",
    "\t\ti, o = item[0], item[1]\n",
    "\t\tinp_len, oup_len, al_len = len(inp), len(oup), len(i)\n",
    "\t\tlss, mb, stc = seqMatch(inp, oup)\n",
    "\t\teps = '\\u0395'\n",
    "\t\tprefix_flag = False\n",
    "\t\ttag = ''.join(list(zip(*stc))[0])\n",
    "\t\tprint(tag)\n",
    "\t\tif len(inp.split(\" \")) < len(oup.split(\" \")):\n",
    "\t\t\toups = oup.split(\" \")\n",
    "\t\t\tfor ind_o, oup_s in enumerate(oups):\n",
    "\t\t\t\tpref = ' '.join(oups[0:ind_o])\n",
    "\t\t\t\tpref =  pref if len(pref)>0 else eps\n",
    "\t\t\t\ttriplet = make_triplet(tx_set, pref, \"{}->{}\".format(inp, oup_s), eps)\n",
    "\t\t\t\ttriplets.append(triplet)\n",
    "\t\t\t\ttriplet = make_triplet(tx_set, pref, \"{}->{}\".format(inp, oup_s[:-1]), oup[-1:])\n",
    "\t\t\t\ttriplets.append(triplet)\n",
    "\t\t\t\ttriplet = make_triplet(tx_set, pref, \"{}->{}\".format(inp, oup_s[:-2]), oup[-2:])\n",
    "\n",
    "\n",
    "\t\tprint(\"_________\")\n",
    "\n",
    "\treturn triplets"
   ]
  }
 ],
 "metadata": {
  "kernelspec": {
   "display_name": "Python 3",
   "language": "python",
   "name": "python3"
  },
  "language_info": {
   "codemirror_mode": {
    "name": "ipython",
    "version": 3
   },
   "file_extension": ".py",
   "mimetype": "text/x-python",
   "name": "python",
   "nbconvert_exporter": "python",
   "pygments_lexer": "ipython3",
   "version": "3.7.6"
  }
 },
 "nbformat": 4,
 "nbformat_minor": 4
}
