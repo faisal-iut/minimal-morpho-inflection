{
 "cells": [
  {
   "cell_type": "code",
   "execution_count": 79,
   "metadata": {
    "scrolled": false
   },
   "outputs": [
    {
     "name": "stdout",
     "output_type": "stream",
     "text": [
      "Traceback (most recent call last):\r\n",
      "  File \"data_preprocess.py\", line 198, in <module>\r\n",
      "    triplets = augment(lowi, lowo, lowt, vocab)\r\n",
      "  File \"data_preprocess.py\", line 97, in augment\r\n",
      "    i, o = item[0], item[1]\r\n",
      "IndexError: list index out of range\r\n"
     ]
    }
   ],
   "source": [
    "!python data_preprocess.py sample-data/eng eng"
   ]
  },
  {
   "cell_type": "code",
   "execution_count": 54,
   "metadata": {},
   "outputs": [],
   "source": [
    "inp = 'X'\n",
    "oup = ['a','b','c','d']"
   ]
  },
  {
   "cell_type": "code",
   "execution_count": 67,
   "metadata": {},
   "outputs": [
    {
     "name": "stdout",
     "output_type": "stream",
     "text": [
      "0 [] a\n",
      "0\n",
      "1 ['a'] b\n",
      "a\n",
      "2 ['a', 'b'] c\n",
      "a b\n",
      "3 ['a', 'b', 'c'] d\n",
      "a b c\n"
     ]
    }
   ],
   "source": [
    "for ind_o, oup_s in enumerate(oup):\n",
    "    print(ind_o, oup[0:ind_o],oup[ind_o])\n",
    "    pref = ' '.join(oup[0:ind_o])\n",
    "    pref = 0 if len(pref)==0 else pref\n",
    "    print(pref)"
   ]
  },
  {
   "cell_type": "code",
   "execution_count": null,
   "metadata": {},
   "outputs": [],
   "source": [
    "def alignment(inputs, outputs, poss, characters):\n",
    "\ttemp = [(''.join(inputs[i]), ''.join(outputs[i])) for i in range(len(outputs))]\n",
    "\taligned = align.Aligner(temp).alignedpairs\n",
    "\tvocab = list(characters)\n",
    "\ttry:\n",
    "\t\tvocab.remove(u\" \")\n",
    "\texcept:\n",
    "\t\tpass\n",
    "\n",
    "\ttriplets = []\n",
    "\tfor k, item in enumerate(aligned):\n",
    "\t\tinp, oup, pos = ''.join(inputs[k]), ''.join(outputs[k]), '-'.join(poss[k])\n",
    "\t\ttx_set = [inp, oup, pos]\n",
    "\t\ti, o = item[0], item[1]\n",
    "\t\tinp_len, oup_len, al_len = len(inp), len(oup), len(i)\n",
    "\t\tlss, mb, stc = seqMatch(inp, oup)\n",
    "\t\teps = '\\u0395'\n",
    "\t\tprefix_flag = False\n",
    "\t\ttag = ''.join(list(zip(*stc))[0])\n",
    "\t\tprint(tag)\n",
    "\t\tif len(inp.split(\" \")) < len(oup.split(\" \")):\n",
    "\t\t\toups = oup.split(\" \")\n",
    "\t\t\tfor ind_o, oup_s in enumerate(oups):\n",
    "\t\t\t\tpref = ' '.join(oups[0:ind_o])\n",
    "\t\t\t\tpref =  pref if len(pref)>0 else eps\n",
    "\t\t\t\ttriplet = make_triplet(tx_set, pref, \"{}->{}\".format(inp, oup_s), eps)\n",
    "\t\t\t\ttriplets.append(triplet)\n",
    "\t\t\t\ttriplet = make_triplet(tx_set, pref, \"{}->{}\".format(inp, oup_s[:-1]), oup[-1:])\n",
    "\t\t\t\ttriplets.append(triplet)\n",
    "\t\t\t\ttriplet = make_triplet(tx_set, pref, \"{}->{}\".format(inp, oup_s[:-2]), oup[-2:])\n",
    "\n",
    "\n",
    "\t\tprint(\"_________\")\n",
    "\n",
    "\treturn triplets"
   ]
  }
 ],
 "metadata": {
  "kernelspec": {
   "display_name": "Python 3",
   "language": "python",
   "name": "python3"
  },
  "language_info": {
   "codemirror_mode": {
    "name": "ipython",
    "version": 3
   },
   "file_extension": ".py",
   "mimetype": "text/x-python",
   "name": "python",
   "nbconvert_exporter": "python",
   "pygments_lexer": "ipython3",
   "version": "3.7.6"
  }
 },
 "nbformat": 4,
 "nbformat_minor": 4
}
