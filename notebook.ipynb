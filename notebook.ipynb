{
 "cells": [
  {
   "cell_type": "code",
   "execution_count": 5,
   "metadata": {},
   "outputs": [],
   "source": [
    "import numpy as np\n",
    "import pandas as pd\n",
    "import pickle\n",
    "import re\n",
    "from collections import Counter\n",
    "from plot_utils import plt, legend_opts\n",
    "import plot_utils\n",
    "eps = '\\u0395'"
   ]
  },
  {
   "cell_type": "markdown",
   "metadata": {},
   "source": [
    "## Spliting dataset to train : dev"
   ]
  },
  {
   "cell_type": "code",
   "execution_count": 2,
   "metadata": {},
   "outputs": [
    {
     "name": "stdout",
     "output_type": "stream",
     "text": [
      "spa language data splited into train:dev = 2730:2730 ratio\n",
      "eng language data splited into train:dev = 11382:11383 ratio\n",
      "ben language data splited into train:dev = 68:68 ratio\n",
      "grc language data splited into train:dev = 1215:1216 ratio\n",
      "ell language data splited into train:dev = 5953:5953 ratio\n"
     ]
    }
   ],
   "source": [
    "!python utils.py sample-data/spa spa -s 1 1\n",
    "!python utils.py sample-data/eng eng -s 1 1\n",
    "!python utils.py sample-data/ben ben -s 1 1\n",
    "!python utils.py sample-data/grc grc -s 1 1\n",
    "!python utils.py sample-data/ell ell -s 1 1"
   ]
  },
  {
   "cell_type": "markdown",
   "metadata": {},
   "source": [
    "## Generating <prefix, stem_changre, suffix> triplets"
   ]
  },
  {
   "cell_type": "code",
   "execution_count": 10,
   "metadata": {},
   "outputs": [
    {
     "name": "stdout",
     "output_type": "stream",
     "text": [
      "Total 248073 <prefix, stem_change, suffix> triplet generated for spa language train data\n",
      "Total 99527 <prefix, stem_change, suffix> triplet generated for eng language train data\n",
      "Total 2745 <prefix, stem_change, suffix> triplet generated for ben language train data\n",
      "Total 24509 <prefix, stem_change, suffix> triplet generated for grc language train data\n",
      "Total 104724 <prefix, stem_change, suffix> triplet generated for ell language train data\n"
     ]
    }
   ],
   "source": [
    "!python data_preprocess.py sample-data/spa spa\n",
    "!python data_preprocess.py sample-data/eng eng\n",
    "!python data_preprocess.py sample-data/ben ben\n",
    "!python data_preprocess.py sample-data/grc grc\n",
    "!python data_preprocess.py sample-data/ell ell"
   ]
  },
  {
   "cell_type": "markdown",
   "metadata": {},
   "source": [
    "## Creating probability dataframe for train data"
   ]
  },
  {
   "cell_type": "code",
   "execution_count": 11,
   "metadata": {},
   "outputs": [
    {
     "name": "stdout",
     "output_type": "stream",
     "text": [
      "ben Train probability dataframe shape (2745, 13)\n",
      "eng Train probability dataframe shape (99527, 13)\n",
      "spa Train probability dataframe shape (248073, 13)\n",
      "grc Train probability dataframe shape (24509, 13)\n",
      "ell Train probability dataframe shape (104724, 13)\n"
     ]
    }
   ],
   "source": [
    "!python utils.py sample-data/ben ben -p train\n",
    "!python utils.py sample-data/eng eng -p train\n",
    "!python utils.py sample-data/spa spa -p train\n",
    "!python utils.py sample-data/grc grc -p train\n",
    "!python utils.py sample-data/ell ell -p train"
   ]
  },
  {
   "cell_type": "code",
   "execution_count": 12,
   "metadata": {},
   "outputs": [],
   "source": [
    "langs = [\"eng\",\"spa\",\"ell\",\"ben\",\"grc\"]\n",
    "L=langs[0]"
   ]
  },
  {
   "cell_type": "markdown",
   "metadata": {},
   "source": [
    "## Train probability columns \n",
    "- n3_pscs =  $p (root_{last 3 char}| prefix, stem-change, suffix)$\n",
    "- n2_pscs =  $p (root_{last 2 char}| prefix, stem-change, suffix)$\n",
    "- n1_pscs =  $p (root_{last 1 char}| prefix, stem-change, suffix)$\n",
    "- sc_ps   =  $p (stem-change| prefix, suffix)$\n",
    "- p_sc    =  $p (stem-change)$"
   ]
  },
  {
   "cell_type": "code",
   "execution_count": 13,
   "metadata": {},
   "outputs": [
    {
     "data": {
      "text/html": [
       "<div>\n",
       "<style scoped>\n",
       "    .dataframe tbody tr th:only-of-type {\n",
       "        vertical-align: middle;\n",
       "    }\n",
       "\n",
       "    .dataframe tbody tr th {\n",
       "        vertical-align: top;\n",
       "    }\n",
       "\n",
       "    .dataframe thead th {\n",
       "        text-align: right;\n",
       "    }\n",
       "</style>\n",
       "<table border=\"1\" class=\"dataframe\">\n",
       "  <thead>\n",
       "    <tr style=\"text-align: right;\">\n",
       "      <th></th>\n",
       "      <th>input</th>\n",
       "      <th>output</th>\n",
       "      <th>n3</th>\n",
       "      <th>n2</th>\n",
       "      <th>n1</th>\n",
       "      <th>prefix</th>\n",
       "      <th>stem_change</th>\n",
       "      <th>suffix</th>\n",
       "      <th>n3_pscs</th>\n",
       "      <th>n2_pscs</th>\n",
       "      <th>n1_pscs</th>\n",
       "      <th>sc_ps</th>\n",
       "      <th>p_sc</th>\n",
       "    </tr>\n",
       "  </thead>\n",
       "  <tbody>\n",
       "    <tr>\n",
       "      <th>0</th>\n",
       "      <td>rabbet</td>\n",
       "      <td>rabbeted</td>\n",
       "      <td>bet</td>\n",
       "      <td>et</td>\n",
       "      <td>t</td>\n",
       "      <td>Ε</td>\n",
       "      <td>Ε-&gt;Ε</td>\n",
       "      <td>ed</td>\n",
       "      <td>0.000630</td>\n",
       "      <td>0.016387</td>\n",
       "      <td>0.201366</td>\n",
       "      <td>0.450118</td>\n",
       "      <td>0.508375</td>\n",
       "    </tr>\n",
       "    <tr>\n",
       "      <th>1</th>\n",
       "      <td>rabbet</td>\n",
       "      <td>rabbeted</td>\n",
       "      <td>bet</td>\n",
       "      <td>et</td>\n",
       "      <td>t</td>\n",
       "      <td>Ε</td>\n",
       "      <td>t-&gt;Ε</td>\n",
       "      <td>ted</td>\n",
       "      <td>0.003130</td>\n",
       "      <td>0.081377</td>\n",
       "      <td>1.000000</td>\n",
       "      <td>0.860027</td>\n",
       "      <td>0.046641</td>\n",
       "    </tr>\n",
       "    <tr>\n",
       "      <th>2</th>\n",
       "      <td>rabbet</td>\n",
       "      <td>rabbeted</td>\n",
       "      <td>bet</td>\n",
       "      <td>et</td>\n",
       "      <td>t</td>\n",
       "      <td>Ε</td>\n",
       "      <td>Ε-&gt;Ε</td>\n",
       "      <td>ed</td>\n",
       "      <td>0.000630</td>\n",
       "      <td>0.016387</td>\n",
       "      <td>0.201366</td>\n",
       "      <td>0.450118</td>\n",
       "      <td>0.508375</td>\n",
       "    </tr>\n",
       "    <tr>\n",
       "      <th>3</th>\n",
       "      <td>rabbet</td>\n",
       "      <td>rabbeted</td>\n",
       "      <td>bet</td>\n",
       "      <td>et</td>\n",
       "      <td>t</td>\n",
       "      <td>Ε</td>\n",
       "      <td>t-&gt;Ε</td>\n",
       "      <td>ted</td>\n",
       "      <td>0.003130</td>\n",
       "      <td>0.081377</td>\n",
       "      <td>1.000000</td>\n",
       "      <td>0.860027</td>\n",
       "      <td>0.046641</td>\n",
       "    </tr>\n",
       "    <tr>\n",
       "      <th>4</th>\n",
       "      <td>rabbet</td>\n",
       "      <td>rabbeting</td>\n",
       "      <td>bet</td>\n",
       "      <td>et</td>\n",
       "      <td>t</td>\n",
       "      <td>Ε</td>\n",
       "      <td>Ε-&gt;Ε</td>\n",
       "      <td>ing</td>\n",
       "      <td>0.000546</td>\n",
       "      <td>0.014925</td>\n",
       "      <td>0.180743</td>\n",
       "      <td>0.479030</td>\n",
       "      <td>0.508375</td>\n",
       "    </tr>\n",
       "    <tr>\n",
       "      <th>5</th>\n",
       "      <td>rabbet</td>\n",
       "      <td>rabbeting</td>\n",
       "      <td>bet</td>\n",
       "      <td>et</td>\n",
       "      <td>t</td>\n",
       "      <td>Ε</td>\n",
       "      <td>t-&gt;Ε</td>\n",
       "      <td>ting</td>\n",
       "      <td>0.003021</td>\n",
       "      <td>0.082578</td>\n",
       "      <td>1.000000</td>\n",
       "      <td>0.826811</td>\n",
       "      <td>0.046641</td>\n",
       "    </tr>\n",
       "    <tr>\n",
       "      <th>6</th>\n",
       "      <td>rabbet</td>\n",
       "      <td>rabbets</td>\n",
       "      <td>bet</td>\n",
       "      <td>et</td>\n",
       "      <td>t</td>\n",
       "      <td>Ε</td>\n",
       "      <td>Ε-&gt;Ε</td>\n",
       "      <td>s</td>\n",
       "      <td>0.000386</td>\n",
       "      <td>0.011189</td>\n",
       "      <td>0.114594</td>\n",
       "      <td>0.999614</td>\n",
       "      <td>0.508375</td>\n",
       "    </tr>\n",
       "    <tr>\n",
       "      <th>7</th>\n",
       "      <td>rabbet</td>\n",
       "      <td>rabbets</td>\n",
       "      <td>bet</td>\n",
       "      <td>et</td>\n",
       "      <td>t</td>\n",
       "      <td>Ε</td>\n",
       "      <td>t-&gt;Ε</td>\n",
       "      <td>ts</td>\n",
       "      <td>0.003367</td>\n",
       "      <td>0.097643</td>\n",
       "      <td>1.000000</td>\n",
       "      <td>1.000000</td>\n",
       "      <td>0.046641</td>\n",
       "    </tr>\n",
       "    <tr>\n",
       "      <th>8</th>\n",
       "      <td>rabbet</td>\n",
       "      <td>rabbet</td>\n",
       "      <td>bet</td>\n",
       "      <td>et</td>\n",
       "      <td>t</td>\n",
       "      <td>Ε</td>\n",
       "      <td>Ε-&gt;Ε</td>\n",
       "      <td>Ε</td>\n",
       "      <td>0.000513</td>\n",
       "      <td>0.012484</td>\n",
       "      <td>0.115690</td>\n",
       "      <td>0.996082</td>\n",
       "      <td>0.508375</td>\n",
       "    </tr>\n",
       "    <tr>\n",
       "      <th>9</th>\n",
       "      <td>sess</td>\n",
       "      <td>sessed</td>\n",
       "      <td>ess</td>\n",
       "      <td>ss</td>\n",
       "      <td>s</td>\n",
       "      <td>Ε</td>\n",
       "      <td>Ε-&gt;Ε</td>\n",
       "      <td>ed</td>\n",
       "      <td>0.011975</td>\n",
       "      <td>0.021429</td>\n",
       "      <td>0.027311</td>\n",
       "      <td>0.450118</td>\n",
       "      <td>0.508375</td>\n",
       "    </tr>\n",
       "  </tbody>\n",
       "</table>\n",
       "</div>"
      ],
      "text/plain": [
       "    input     output   n3  n2 n1 prefix stem_change suffix   n3_pscs  \\\n",
       "0  rabbet   rabbeted  bet  et  t      Ε        Ε->Ε     ed  0.000630   \n",
       "1  rabbet   rabbeted  bet  et  t      Ε        t->Ε    ted  0.003130   \n",
       "2  rabbet   rabbeted  bet  et  t      Ε        Ε->Ε     ed  0.000630   \n",
       "3  rabbet   rabbeted  bet  et  t      Ε        t->Ε    ted  0.003130   \n",
       "4  rabbet  rabbeting  bet  et  t      Ε        Ε->Ε    ing  0.000546   \n",
       "5  rabbet  rabbeting  bet  et  t      Ε        t->Ε   ting  0.003021   \n",
       "6  rabbet    rabbets  bet  et  t      Ε        Ε->Ε      s  0.000386   \n",
       "7  rabbet    rabbets  bet  et  t      Ε        t->Ε     ts  0.003367   \n",
       "8  rabbet     rabbet  bet  et  t      Ε        Ε->Ε      Ε  0.000513   \n",
       "9    sess     sessed  ess  ss  s      Ε        Ε->Ε     ed  0.011975   \n",
       "\n",
       "    n2_pscs   n1_pscs     sc_ps      p_sc  \n",
       "0  0.016387  0.201366  0.450118  0.508375  \n",
       "1  0.081377  1.000000  0.860027  0.046641  \n",
       "2  0.016387  0.201366  0.450118  0.508375  \n",
       "3  0.081377  1.000000  0.860027  0.046641  \n",
       "4  0.014925  0.180743  0.479030  0.508375  \n",
       "5  0.082578  1.000000  0.826811  0.046641  \n",
       "6  0.011189  0.114594  0.999614  0.508375  \n",
       "7  0.097643  1.000000  1.000000  0.046641  \n",
       "8  0.012484  0.115690  0.996082  0.508375  \n",
       "9  0.021429  0.027311  0.450118  0.508375  "
      ]
     },
     "execution_count": 13,
     "metadata": {},
     "output_type": "execute_result"
    }
   ],
   "source": [
    "with open(\"sample-data/\"+L+\"/\"+L+\"-train-proba.pickle\", 'rb') as outp:\n",
    "    L_train_proba = pickle.load(outp)\n",
    "L_train_proba.head(10)"
   ]
  },
  {
   "cell_type": "markdown",
   "metadata": {},
   "source": [
    "## Generating probability dataframe for dev data using train probability"
   ]
  },
  {
   "cell_type": "code",
   "execution_count": 14,
   "metadata": {
    "scrolled": true
   },
   "outputs": [
    {
     "name": "stdout",
     "output_type": "stream",
     "text": [
      "ben Dev probability dataframe shape (9245, 13)\n",
      "eng Dev probability dataframe shape (438338, 13)\n"
     ]
    }
   ],
   "source": [
    "!python utils.py sample-data/ben ben -p dev\n",
    "!python utils.py sample-data/eng eng -p dev\n",
    "# !python utils.py sample-data/spa spa -p dev\n",
    "# !python utils.py sample-data/grc grc -p dev\n",
    "# !python utils.py sample-data/ell ell -p dev"
   ]
  },
  {
   "cell_type": "markdown",
   "metadata": {},
   "source": [
    "## dev probability columns\n",
    "- n3_pscs = 𝑝(𝑟𝑜𝑜𝑡𝑙𝑎𝑠𝑡3𝑐ℎ𝑎𝑟|𝑝𝑟𝑒𝑓𝑖𝑥,𝑠𝑡𝑒𝑚−𝑐ℎ𝑎𝑛𝑔𝑒,𝑠𝑢𝑓𝑓𝑖𝑥)\n",
    "- n2_pscs = 𝑝(𝑟𝑜𝑜𝑡𝑙𝑎𝑠𝑡2𝑐ℎ𝑎𝑟|𝑝𝑟𝑒𝑓𝑖𝑥,𝑠𝑡𝑒𝑚−𝑐ℎ𝑎𝑛𝑔𝑒,𝑠𝑢𝑓𝑓𝑖𝑥)\n",
    "- n1_pscs = 𝑝(𝑟𝑜𝑜𝑡𝑙𝑎𝑠𝑡1𝑐ℎ𝑎𝑟|𝑝𝑟𝑒𝑓𝑖𝑥,𝑠𝑡𝑒𝑚−𝑐ℎ𝑎𝑛𝑔𝑒,𝑠𝑢𝑓𝑓𝑖𝑥)\n",
    "- sc_ps = 𝑝(𝑠𝑡𝑒𝑚−𝑐ℎ𝑎𝑛𝑔𝑒|𝑝𝑟𝑒𝑓𝑖𝑥,𝑠𝑢𝑓𝑓𝑖𝑥)\n",
    "- p_sc =  𝑝(𝑠𝑡𝑒𝑚−𝑐ℎ𝑎𝑛𝑔𝑒)\n",
    "\n",
    "## In case of missing value:\n",
    "- $ p(f) = 1/count(f_{unique})$"
   ]
  },
  {
   "cell_type": "code",
   "execution_count": 15,
   "metadata": {},
   "outputs": [
    {
     "data": {
      "text/html": [
       "<div>\n",
       "<style scoped>\n",
       "    .dataframe tbody tr th:only-of-type {\n",
       "        vertical-align: middle;\n",
       "    }\n",
       "\n",
       "    .dataframe tbody tr th {\n",
       "        vertical-align: top;\n",
       "    }\n",
       "\n",
       "    .dataframe thead th {\n",
       "        text-align: right;\n",
       "    }\n",
       "</style>\n",
       "<table border=\"1\" class=\"dataframe\">\n",
       "  <thead>\n",
       "    <tr style=\"text-align: right;\">\n",
       "      <th></th>\n",
       "      <th>input</th>\n",
       "      <th>output</th>\n",
       "      <th>n3</th>\n",
       "      <th>n2</th>\n",
       "      <th>n1</th>\n",
       "      <th>prefix</th>\n",
       "      <th>stem_change</th>\n",
       "      <th>suffix</th>\n",
       "      <th>n3_pscs</th>\n",
       "      <th>n2_pscs</th>\n",
       "      <th>n1_pscs</th>\n",
       "      <th>sc_ps</th>\n",
       "      <th>p_sc</th>\n",
       "    </tr>\n",
       "  </thead>\n",
       "  <tbody>\n",
       "    <tr>\n",
       "      <th>0</th>\n",
       "      <td>categis</td>\n",
       "      <td>categised</td>\n",
       "      <td>gis</td>\n",
       "      <td>is</td>\n",
       "      <td>s</td>\n",
       "      <td>Ε</td>\n",
       "      <td>s-&gt;Ε</td>\n",
       "      <td>sed</td>\n",
       "      <td>0.000098</td>\n",
       "      <td>0.023077</td>\n",
       "      <td>1.000000</td>\n",
       "      <td>0.909091</td>\n",
       "      <td>0.005787</td>\n",
       "    </tr>\n",
       "    <tr>\n",
       "      <th>1</th>\n",
       "      <td>categiseve</td>\n",
       "      <td>categised</td>\n",
       "      <td>eve</td>\n",
       "      <td>ve</td>\n",
       "      <td>e</td>\n",
       "      <td>Ε</td>\n",
       "      <td>ve-&gt;Ε</td>\n",
       "      <td>d</td>\n",
       "      <td>0.000098</td>\n",
       "      <td>1.000000</td>\n",
       "      <td>1.000000</td>\n",
       "      <td>0.000599</td>\n",
       "      <td>0.000090</td>\n",
       "    </tr>\n",
       "    <tr>\n",
       "      <th>2</th>\n",
       "      <td>categise</td>\n",
       "      <td>categised</td>\n",
       "      <td>ise</td>\n",
       "      <td>se</td>\n",
       "      <td>e</td>\n",
       "      <td>Ε</td>\n",
       "      <td>Ε-&gt;Ε</td>\n",
       "      <td>d</td>\n",
       "      <td>0.089944</td>\n",
       "      <td>0.132794</td>\n",
       "      <td>0.999192</td>\n",
       "      <td>0.988413</td>\n",
       "      <td>0.508375</td>\n",
       "    </tr>\n",
       "    <tr>\n",
       "      <th>3</th>\n",
       "      <td>categiseed</td>\n",
       "      <td>categised</td>\n",
       "      <td>eed</td>\n",
       "      <td>ed</td>\n",
       "      <td>d</td>\n",
       "      <td>Ε</td>\n",
       "      <td>ed-&gt;Ε</td>\n",
       "      <td>d</td>\n",
       "      <td>1.000000</td>\n",
       "      <td>1.000000</td>\n",
       "      <td>1.000000</td>\n",
       "      <td>0.003596</td>\n",
       "      <td>0.000362</td>\n",
       "    </tr>\n",
       "    <tr>\n",
       "      <th>4</th>\n",
       "      <td>categisee</td>\n",
       "      <td>categised</td>\n",
       "      <td>see</td>\n",
       "      <td>ee</td>\n",
       "      <td>e</td>\n",
       "      <td>Ε</td>\n",
       "      <td>e-&gt;Ε</td>\n",
       "      <td>d</td>\n",
       "      <td>0.000098</td>\n",
       "      <td>0.333333</td>\n",
       "      <td>1.000000</td>\n",
       "      <td>0.000599</td>\n",
       "      <td>0.203432</td>\n",
       "    </tr>\n",
       "    <tr>\n",
       "      <th>5</th>\n",
       "      <td>categisead</td>\n",
       "      <td>categised</td>\n",
       "      <td>ead</td>\n",
       "      <td>ad</td>\n",
       "      <td>d</td>\n",
       "      <td>Ε</td>\n",
       "      <td>ad-&gt;Ε</td>\n",
       "      <td>d</td>\n",
       "      <td>1.000000</td>\n",
       "      <td>1.000000</td>\n",
       "      <td>1.000000</td>\n",
       "      <td>0.002198</td>\n",
       "      <td>0.000221</td>\n",
       "    </tr>\n",
       "    <tr>\n",
       "      <th>6</th>\n",
       "      <td>categiseth</td>\n",
       "      <td>categised</td>\n",
       "      <td>eth</td>\n",
       "      <td>th</td>\n",
       "      <td>h</td>\n",
       "      <td>Ε</td>\n",
       "      <td>th-&gt;Ε</td>\n",
       "      <td>d</td>\n",
       "      <td>0.000098</td>\n",
       "      <td>1.000000</td>\n",
       "      <td>1.000000</td>\n",
       "      <td>0.000100</td>\n",
       "      <td>0.000020</td>\n",
       "    </tr>\n",
       "    <tr>\n",
       "      <th>7</th>\n",
       "      <td>categise</td>\n",
       "      <td>categised</td>\n",
       "      <td>ise</td>\n",
       "      <td>se</td>\n",
       "      <td>e</td>\n",
       "      <td>Ε</td>\n",
       "      <td>e-&gt;Ε</td>\n",
       "      <td>ed</td>\n",
       "      <td>0.090017</td>\n",
       "      <td>0.132902</td>\n",
       "      <td>1.000000</td>\n",
       "      <td>0.467470</td>\n",
       "      <td>0.203432</td>\n",
       "    </tr>\n",
       "    <tr>\n",
       "      <th>8</th>\n",
       "      <td>categi</td>\n",
       "      <td>categised</td>\n",
       "      <td>egi</td>\n",
       "      <td>gi</td>\n",
       "      <td>i</td>\n",
       "      <td>Ε</td>\n",
       "      <td>Ε-&gt;Ε</td>\n",
       "      <td>sed</td>\n",
       "      <td>0.000098</td>\n",
       "      <td>0.000365</td>\n",
       "      <td>0.001276</td>\n",
       "      <td>0.090909</td>\n",
       "      <td>0.508375</td>\n",
       "    </tr>\n",
       "    <tr>\n",
       "      <th>9</th>\n",
       "      <td>categis.</td>\n",
       "      <td>categised</td>\n",
       "      <td>is.</td>\n",
       "      <td>s.</td>\n",
       "      <td>.</td>\n",
       "      <td>*</td>\n",
       "      <td>.-&gt;Ε</td>\n",
       "      <td>ed</td>\n",
       "      <td>0.000098</td>\n",
       "      <td>0.000365</td>\n",
       "      <td>1.000000</td>\n",
       "      <td>1.000000</td>\n",
       "      <td>0.000070</td>\n",
       "    </tr>\n",
       "  </tbody>\n",
       "</table>\n",
       "</div>"
      ],
      "text/plain": [
       "        input     output   n3  n2 n1 prefix stem_change suffix   n3_pscs  \\\n",
       "0     categis  categised  gis  is  s      Ε        s->Ε    sed  0.000098   \n",
       "1  categiseve  categised  eve  ve  e      Ε       ve->Ε      d  0.000098   \n",
       "2    categise  categised  ise  se  e      Ε        Ε->Ε      d  0.089944   \n",
       "3  categiseed  categised  eed  ed  d      Ε       ed->Ε      d  1.000000   \n",
       "4   categisee  categised  see  ee  e      Ε        e->Ε      d  0.000098   \n",
       "5  categisead  categised  ead  ad  d      Ε       ad->Ε      d  1.000000   \n",
       "6  categiseth  categised  eth  th  h      Ε       th->Ε      d  0.000098   \n",
       "7    categise  categised  ise  se  e      Ε        e->Ε     ed  0.090017   \n",
       "8      categi  categised  egi  gi  i      Ε        Ε->Ε    sed  0.000098   \n",
       "9    categis.  categised  is.  s.  .      *        .->Ε     ed  0.000098   \n",
       "\n",
       "    n2_pscs   n1_pscs     sc_ps      p_sc  \n",
       "0  0.023077  1.000000  0.909091  0.005787  \n",
       "1  1.000000  1.000000  0.000599  0.000090  \n",
       "2  0.132794  0.999192  0.988413  0.508375  \n",
       "3  1.000000  1.000000  0.003596  0.000362  \n",
       "4  0.333333  1.000000  0.000599  0.203432  \n",
       "5  1.000000  1.000000  0.002198  0.000221  \n",
       "6  1.000000  1.000000  0.000100  0.000020  \n",
       "7  0.132902  1.000000  0.467470  0.203432  \n",
       "8  0.000365  0.001276  0.090909  0.508375  \n",
       "9  0.000365  1.000000  1.000000  0.000070  "
      ]
     },
     "execution_count": 15,
     "metadata": {},
     "output_type": "execute_result"
    }
   ],
   "source": [
    "with open(\"sample-data/\"+L+\"/\"+L+\"-dev-proba.pickle\", 'rb') as outp:\n",
    "    L_dev_proba = pickle.load(outp)\n",
    "L_dev_proba.head(10)"
   ]
  },
  {
   "cell_type": "markdown",
   "metadata": {},
   "source": [
    "## Running EM iterations for dev probability data\n",
    "\n",
    "### E step:\n",
    "#### for each i in generated lemmas:\n",
    "-  $p = \\lambda_0*P_i(n_3|p,sc,s) + \\lambda_1*P_i(n_2|p,sc,s) + \\lambda_2*P_i(n_1|p,sc,s) + \\lambda_3*P_i(sc|p,s) + \\lambda_4*P_i(sc)$\n",
    "#### for j in $0...4$:\n",
    "- $Expected-count_j = Expected-count_j + (\\lambda_j*P_i(j))/p$\n",
    "\n",
    "### M step:\n",
    "#### for  j in $0...4$:\n",
    "- updated $\\lambda_j = Expected-count_j/\\sum{Expected-count_j}$"
   ]
  },
  {
   "cell_type": "code",
   "execution_count": 16,
   "metadata": {
    "scrolled": false
   },
   "outputs": [
    {
     "name": "stdout",
     "output_type": "stream",
     "text": [
      "EM ITERATION FOR LANGUAGE: eng\n",
      "iteration no 0\n",
      "iteration no 1\n",
      "iteration no 2\n",
      "iteration no 3\n",
      "iteration no 4\n",
      "iteration no 5\n",
      "iteration no 6\n",
      "iteration no 7\n",
      "iteration no 8\n",
      "iteration no 9\n",
      "iteration no 10\n",
      "EM ITERATION FOR LANGUAGE: ben\n",
      "iteration no 0\n",
      "iteration no 1\n",
      "iteration no 2\n",
      "iteration no 3\n",
      "iteration no 4\n",
      "iteration no 5\n",
      "iteration no 6\n",
      "iteration no 7\n",
      "iteration no 8\n",
      "iteration no 9\n",
      "iteration no 10\n"
     ]
    }
   ],
   "source": [
    "!python em.py sample-data/eng eng -em 10\n",
    "!python em.py sample-data/ben ben -em 10"
   ]
  },
  {
   "cell_type": "markdown",
   "metadata": {},
   "source": [
    "### Ploting average log likehood [English]"
   ]
  },
  {
   "cell_type": "code",
   "execution_count": 17,
   "metadata": {
    "scrolled": true
   },
   "outputs": [
    {
     "data": {
      "image/png": "[encoded data removed]",
      "text/plain": [
       "<Figure size 720x360 with 2 Axes>"
      ]
     },
     "metadata": {},
     "output_type": "display_data"
    }
   ],
   "source": [
    "L=langs[0]\n",
    "with open(\"sample-data/\"+L+\"/\"+L+\"-dev_avg_ll.pickle\", 'rb') as outp:\n",
    "    avg_ll = pickle.load(outp)\n",
    "plot_utils.plot_em_iteration(avg_ll)"
   ]
  },
  {
   "cell_type": "markdown",
   "metadata": {},
   "source": [
    "### Ploting average log likehood [Bangla]"
   ]
  },
  {
   "cell_type": "code",
   "execution_count": 18,
   "metadata": {},
   "outputs": [
    {
     "data": {
      "image/png": "[encoded data removed]",
      "text/plain": [
       "<Figure size 720x360 with 2 Axes>"
      ]
     },
     "metadata": {},
     "output_type": "display_data"
    }
   ],
   "source": [
    "L=langs[3]\n",
    "with open(\"sample-data/\"+L+\"/\"+L+\"-dev_avg_ll.pickle\", 'rb') as outp:\n",
    "    avg_ll = pickle.load(outp)\n",
    "plot_utils.plot_em_iteration(avg_ll)"
   ]
  },
  {
   "cell_type": "markdown",
   "metadata": {},
   "source": []
  }
 ],
 "metadata": {
  "kernelspec": {
   "display_name": "Python 3",
   "language": "python",
   "name": "python3"
  },
  "language_info": {
   "codemirror_mode": {
    "name": "ipython",
    "version": 3
   },
   "file_extension": ".py",
   "mimetype": "text/x-python",
   "name": "python",
   "nbconvert_exporter": "python",
   "pygments_lexer": "ipython3",
   "version": "3.8.3"
  }
 },
 "nbformat": 4,
 "nbformat_minor": 4
}
